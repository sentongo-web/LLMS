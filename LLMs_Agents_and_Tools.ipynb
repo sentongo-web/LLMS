{
  "nbformat": 4,
  "nbformat_minor": 0,
  "metadata": {
    "colab": {
      "provenance": [],
      "gpuType": "T4",
      "include_colab_link": true
    },
    "kernelspec": {
      "name": "python3",
      "display_name": "Python 3"
    },
    "language_info": {
      "name": "python"
    },
    "accelerator": "GPU"
  },
  "cells": [
    {
      "cell_type": "markdown",
      "metadata": {
        "id": "view-in-github",
        "colab_type": "text"
      },
      "source": [
        "<a href=\"https://colab.research.google.com/github/sentongo-web/LLMS/blob/main/LLMs_Agents_and_Tools.ipynb\" target=\"_parent\"><img src=\"https://colab.research.google.com/assets/colab-badge.svg\" alt=\"Open In Colab\"/></a>"
      ]
    },
    {
      "cell_type": "markdown",
      "metadata": {
        "id": "6KdOol9BPa55"
      },
      "source": [
        "# Agents and Tools"
      ]
    },
    {
      "cell_type": "markdown",
      "source": [
        "## Installing the libraries"
      ],
      "metadata": {
        "id": "4Da4eJr8XQF5"
      }
    },
    {
      "cell_type": "code",
      "execution_count": null,
      "metadata": {
        "id": "4I-VUv8KXey6",
        "colab": {
          "base_uri": "https://localhost:8080/"
        },
        "outputId": "9e60cfec-bf43-4bcb-ffc2-2da55593bb73"
      },
      "outputs": [
        {
          "output_type": "stream",
          "name": "stdout",
          "text": [
            "\u001b[2K   \u001b[90m━━━━━━━━━━━━━━━━━━━━━━━━━━━━━━━━━━━━━━━━\u001b[0m \u001b[32m122.4/122.4 MB\u001b[0m \u001b[31m9.2 MB/s\u001b[0m eta \u001b[36m0:00:00\u001b[0m\n",
            "\u001b[2K     \u001b[90m━━━━━━━━━━━━━━━━━━━━━━━━━━━━━━━━━━━━━━━━\u001b[0m \u001b[32m67.3/67.3 kB\u001b[0m \u001b[31m1.8 MB/s\u001b[0m eta \u001b[36m0:00:00\u001b[0m\n",
            "\u001b[?25h  Installing build dependencies ... \u001b[?25l\u001b[?25hdone\n",
            "  Getting requirements to build wheel ... \u001b[?25l\u001b[?25hdone\n",
            "  Preparing metadata (pyproject.toml) ... \u001b[?25l\u001b[?25hdone\n",
            "\u001b[2K     \u001b[90m━━━━━━━━━━━━━━━━━━━━━━━━━━━━━━━━━━━━━━━━\u001b[0m \u001b[32m50.6/50.6 kB\u001b[0m \u001b[31m3.4 MB/s\u001b[0m eta \u001b[36m0:00:00\u001b[0m\n",
            "\u001b[2K   \u001b[90m━━━━━━━━━━━━━━━━━━━━━━━━━━━━━━━━━━━━━━━━\u001b[0m \u001b[32m1.0/1.0 MB\u001b[0m \u001b[31m28.1 MB/s\u001b[0m eta \u001b[36m0:00:00\u001b[0m\n",
            "\u001b[2K   \u001b[90m━━━━━━━━━━━━━━━━━━━━━━━━━━━━━━━━━━━━━━━━\u001b[0m \u001b[32m2.4/2.4 MB\u001b[0m \u001b[31m81.9 MB/s\u001b[0m eta \u001b[36m0:00:00\u001b[0m\n",
            "\u001b[2K   \u001b[90m━━━━━━━━━━━━━━━━━━━━━━━━━━━━━━━━━━━━━━━━\u001b[0m \u001b[32m612.5/612.5 kB\u001b[0m \u001b[31m38.8 MB/s\u001b[0m eta \u001b[36m0:00:00\u001b[0m\n",
            "\u001b[2K   \u001b[90m━━━━━━━━━━━━━━━━━━━━━━━━━━━━━━━━━━━━━━━━\u001b[0m \u001b[32m2.4/2.4 MB\u001b[0m \u001b[31m86.9 MB/s\u001b[0m eta \u001b[36m0:00:00\u001b[0m\n",
            "\u001b[2K   \u001b[90m━━━━━━━━━━━━━━━━━━━━━━━━━━━━━━━━━━━━━━━━\u001b[0m \u001b[32m94.7/94.7 kB\u001b[0m \u001b[31m7.6 MB/s\u001b[0m eta \u001b[36m0:00:00\u001b[0m\n",
            "\u001b[2K   \u001b[90m━━━━━━━━━━━━━━━━━━━━━━━━━━━━━━━━━━━━━━━━\u001b[0m \u001b[32m408.0/408.0 kB\u001b[0m \u001b[31m30.7 MB/s\u001b[0m eta \u001b[36m0:00:00\u001b[0m\n",
            "\u001b[2K   \u001b[90m━━━━━━━━━━━━━━━━━━━━━━━━━━━━━━━━━━━━━━━━\u001b[0m \u001b[32m296.9/296.9 kB\u001b[0m \u001b[31m23.0 MB/s\u001b[0m eta \u001b[36m0:00:00\u001b[0m\n",
            "\u001b[2K   \u001b[90m━━━━━━━━━━━━━━━━━━━━━━━━━━━━━━━━━━━━━━━━\u001b[0m \u001b[32m255.8/255.8 kB\u001b[0m \u001b[31m21.1 MB/s\u001b[0m eta \u001b[36m0:00:00\u001b[0m\n",
            "\u001b[2K   \u001b[90m━━━━━━━━━━━━━━━━━━━━━━━━━━━━━━━━━━━━━━━━\u001b[0m \u001b[32m273.8/273.8 kB\u001b[0m \u001b[31m16.7 MB/s\u001b[0m eta \u001b[36m0:00:00\u001b[0m\n",
            "\u001b[2K   \u001b[90m━━━━━━━━━━━━━━━━━━━━━━━━━━━━━━━━━━━━━━━━\u001b[0m \u001b[32m76.4/76.4 kB\u001b[0m \u001b[31m6.5 MB/s\u001b[0m eta \u001b[36m0:00:00\u001b[0m\n",
            "\u001b[2K   \u001b[90m━━━━━━━━━━━━━━━━━━━━━━━━━━━━━━━━━━━━━━━━\u001b[0m \u001b[32m78.0/78.0 kB\u001b[0m \u001b[31m5.3 MB/s\u001b[0m eta \u001b[36m0:00:00\u001b[0m\n",
            "\u001b[2K   \u001b[90m━━━━━━━━━━━━━━━━━━━━━━━━━━━━━━━━━━━━━━━━\u001b[0m \u001b[32m1.9/1.9 MB\u001b[0m \u001b[31m68.5 MB/s\u001b[0m eta \u001b[36m0:00:00\u001b[0m\n",
            "\u001b[2K   \u001b[90m━━━━━━━━━━━━━━━━━━━━━━━━━━━━━━━━━━━━━━━━\u001b[0m \u001b[32m49.5/49.5 kB\u001b[0m \u001b[31m4.1 MB/s\u001b[0m eta \u001b[36m0:00:00\u001b[0m\n",
            "\u001b[2K   \u001b[90m━━━━━━━━━━━━━━━━━━━━━━━━━━━━━━━━━━━━━━━━\u001b[0m \u001b[32m93.2/93.2 kB\u001b[0m \u001b[31m7.6 MB/s\u001b[0m eta \u001b[36m0:00:00\u001b[0m\n",
            "\u001b[2K   \u001b[90m━━━━━━━━━━━━━━━━━━━━━━━━━━━━━━━━━━━━━━━━\u001b[0m \u001b[32m13.2/13.2 MB\u001b[0m \u001b[31m108.4 MB/s\u001b[0m eta \u001b[36m0:00:00\u001b[0m\n",
            "\u001b[2K   \u001b[90m━━━━━━━━━━━━━━━━━━━━━━━━━━━━━━━━━━━━━━━━\u001b[0m \u001b[32m52.5/52.5 kB\u001b[0m \u001b[31m4.5 MB/s\u001b[0m eta \u001b[36m0:00:00\u001b[0m\n",
            "\u001b[2K   \u001b[90m━━━━━━━━━━━━━━━━━━━━━━━━━━━━━━━━━━━━━━━━\u001b[0m \u001b[32m149.7/149.7 kB\u001b[0m \u001b[31m8.7 MB/s\u001b[0m eta \u001b[36m0:00:00\u001b[0m\n",
            "\u001b[2K   \u001b[90m━━━━━━━━━━━━━━━━━━━━━━━━━━━━━━━━━━━━━━━━\u001b[0m \u001b[32m64.0/64.0 kB\u001b[0m \u001b[31m5.7 MB/s\u001b[0m eta \u001b[36m0:00:00\u001b[0m\n",
            "\u001b[2K   \u001b[90m━━━━━━━━━━━━━━━━━━━━━━━━━━━━━━━━━━━━━━━━\u001b[0m \u001b[32m110.5/110.5 kB\u001b[0m \u001b[31m10.0 MB/s\u001b[0m eta \u001b[36m0:00:00\u001b[0m\n",
            "\u001b[2K   \u001b[90m━━━━━━━━━━━━━━━━━━━━━━━━━━━━━━━━━━━━━━━━\u001b[0m \u001b[32m144.5/144.5 kB\u001b[0m \u001b[31m10.7 MB/s\u001b[0m eta \u001b[36m0:00:00\u001b[0m\n",
            "\u001b[2K   \u001b[90m━━━━━━━━━━━━━━━━━━━━━━━━━━━━━━━━━━━━━━━━\u001b[0m \u001b[32m54.4/54.4 kB\u001b[0m \u001b[31m3.8 MB/s\u001b[0m eta \u001b[36m0:00:00\u001b[0m\n",
            "\u001b[2K   \u001b[90m━━━━━━━━━━━━━━━━━━━━━━━━━━━━━━━━━━━━━━━━\u001b[0m \u001b[32m54.5/54.5 kB\u001b[0m \u001b[31m4.4 MB/s\u001b[0m eta \u001b[36m0:00:00\u001b[0m\n",
            "\u001b[2K   \u001b[90m━━━━━━━━━━━━━━━━━━━━━━━━━━━━━━━━━━━━━━━━\u001b[0m \u001b[32m73.3/73.3 kB\u001b[0m \u001b[31m6.2 MB/s\u001b[0m eta \u001b[36m0:00:00\u001b[0m\n",
            "\u001b[2K   \u001b[90m━━━━━━━━━━━━━━━━━━━━━━━━━━━━━━━━━━━━━━━━\u001b[0m \u001b[32m63.7/63.7 kB\u001b[0m \u001b[31m3.3 MB/s\u001b[0m eta \u001b[36m0:00:00\u001b[0m\n",
            "\u001b[2K   \u001b[90m━━━━━━━━━━━━━━━━━━━━━━━━━━━━━━━━━━━━━━━━\u001b[0m \u001b[32m58.3/58.3 kB\u001b[0m \u001b[31m4.0 MB/s\u001b[0m eta \u001b[36m0:00:00\u001b[0m\n",
            "\u001b[2K   \u001b[90m━━━━━━━━━━━━━━━━━━━━━━━━━━━━━━━━━━━━━━━━\u001b[0m \u001b[32m442.1/442.1 kB\u001b[0m \u001b[31m26.0 MB/s\u001b[0m eta \u001b[36m0:00:00\u001b[0m\n",
            "\u001b[2K   \u001b[90m━━━━━━━━━━━━━━━━━━━━━━━━━━━━━━━━━━━━━━━━\u001b[0m \u001b[32m3.8/3.8 MB\u001b[0m \u001b[31m22.1 MB/s\u001b[0m eta \u001b[36m0:00:00\u001b[0m\n",
            "\u001b[2K   \u001b[90m━━━━━━━━━━━━━━━━━━━━━━━━━━━━━━━━━━━━━━━━\u001b[0m \u001b[32m425.7/425.7 kB\u001b[0m \u001b[31m15.3 MB/s\u001b[0m eta \u001b[36m0:00:00\u001b[0m\n",
            "\u001b[2K   \u001b[90m━━━━━━━━━━━━━━━━━━━━━━━━━━━━━━━━━━━━━━━━\u001b[0m \u001b[32m164.1/164.1 kB\u001b[0m \u001b[31m8.9 MB/s\u001b[0m eta \u001b[36m0:00:00\u001b[0m\n",
            "\u001b[2K   \u001b[90m━━━━━━━━━━━━━━━━━━━━━━━━━━━━━━━━━━━━━━━━\u001b[0m \u001b[32m46.0/46.0 kB\u001b[0m \u001b[31m2.3 MB/s\u001b[0m eta \u001b[36m0:00:00\u001b[0m\n",
            "\u001b[2K   \u001b[90m━━━━━━━━━━━━━━━━━━━━━━━━━━━━━━━━━━━━━━━━\u001b[0m \u001b[32m86.8/86.8 kB\u001b[0m \u001b[31m5.4 MB/s\u001b[0m eta \u001b[36m0:00:00\u001b[0m\n",
            "\u001b[?25h  Building wheel for pypika (pyproject.toml) ... \u001b[?25l\u001b[?25hdone\n"
          ]
        }
      ],
      "source": [
        "!pip install -q transformers einops accelerate bitsandbytes\n",
        "!pip install -q langchain langchain_community langchain-huggingface langchainhub langchain_chroma"
      ]
    },
    {
      "cell_type": "markdown",
      "metadata": {
        "id": "uKR2tMyKaGsb"
      },
      "source": [
        "## Choosing the tools\n",
        "\n",
        "> List of tools that have official integration with langchain https://python.langchain.com/docs/integrations/tools/\n",
        "\n"
      ]
    },
    {
      "cell_type": "markdown",
      "source": [
        "## Installing the tool"
      ],
      "metadata": {
        "id": "jBZ4Xq7phfDz"
      }
    },
    {
      "cell_type": "code",
      "source": [
        "!pip install wikipedia"
      ],
      "metadata": {
        "colab": {
          "base_uri": "https://localhost:8080/"
        },
        "id": "4fjx4CHGAPW0",
        "outputId": "31e2d9ec-6680-4393-a067-29fbf76de064"
      },
      "execution_count": null,
      "outputs": [
        {
          "output_type": "stream",
          "name": "stdout",
          "text": [
            "Collecting wikipedia\n",
            "  Downloading wikipedia-1.4.0.tar.gz (27 kB)\n",
            "  Preparing metadata (setup.py) ... \u001b[?25l\u001b[?25hdone\n",
            "Requirement already satisfied: beautifulsoup4 in /usr/local/lib/python3.10/dist-packages (from wikipedia) (4.12.3)\n",
            "Requirement already satisfied: requests<3.0.0,>=2.0.0 in /usr/local/lib/python3.10/dist-packages (from wikipedia) (2.32.3)\n",
            "Requirement already satisfied: charset-normalizer<4,>=2 in /usr/local/lib/python3.10/dist-packages (from requests<3.0.0,>=2.0.0->wikipedia) (3.4.0)\n",
            "Requirement already satisfied: idna<4,>=2.5 in /usr/local/lib/python3.10/dist-packages (from requests<3.0.0,>=2.0.0->wikipedia) (3.10)\n",
            "Requirement already satisfied: urllib3<3,>=1.21.1 in /usr/local/lib/python3.10/dist-packages (from requests<3.0.0,>=2.0.0->wikipedia) (2.2.3)\n",
            "Requirement already satisfied: certifi>=2017.4.17 in /usr/local/lib/python3.10/dist-packages (from requests<3.0.0,>=2.0.0->wikipedia) (2024.8.30)\n",
            "Requirement already satisfied: soupsieve>1.2 in /usr/local/lib/python3.10/dist-packages (from beautifulsoup4->wikipedia) (2.6)\n",
            "Building wheels for collected packages: wikipedia\n",
            "  Building wheel for wikipedia (setup.py) ... \u001b[?25l\u001b[?25hdone\n",
            "  Created wheel for wikipedia: filename=wikipedia-1.4.0-py3-none-any.whl size=11679 sha256=5c6490d098552ebc64b64faa41bcd103c299995a31c02d416ff8cdb51f3319ed\n",
            "  Stored in directory: /root/.cache/pip/wheels/5e/b6/c5/93f3dec388ae76edc830cb42901bb0232504dfc0df02fc50de\n",
            "Successfully built wikipedia\n",
            "Installing collected packages: wikipedia\n",
            "Successfully installed wikipedia-1.4.0\n"
          ]
        }
      ]
    },
    {
      "cell_type": "code",
      "source": [
        "from langchain_core.tools import Tool\n",
        "from langchain.tools import WikipediaQueryRun, BaseTool\n",
        "from langchain_community.utilities import WikipediaAPIWrapper"
      ],
      "metadata": {
        "id": "ZgGjeKqaAVL5"
      },
      "execution_count": null,
      "outputs": []
    },
    {
      "cell_type": "markdown",
      "source": [
        "## Loading the Tool"
      ],
      "metadata": {
        "id": "e2JbEAbYhsiq"
      }
    },
    {
      "cell_type": "code",
      "source": [
        "wikipedia = WikipediaQueryRun(api_wrapper=WikipediaAPIWrapper(top_k_results=1, doc_content_chars_max=3000))"
      ],
      "metadata": {
        "id": "esS9cDHsAqrq"
      },
      "execution_count": null,
      "outputs": []
    },
    {
      "cell_type": "code",
      "source": [
        "print(wikipedia.run(\"Deep Learning\"))"
      ],
      "metadata": {
        "colab": {
          "base_uri": "https://localhost:8080/"
        },
        "id": "Tv62ZTC9BLiZ",
        "outputId": "afc41792-7842-428d-a1aa-f1fe38e73a07"
      },
      "execution_count": null,
      "outputs": [
        {
          "output_type": "stream",
          "name": "stdout",
          "text": [
            "Page: Deep learning\n",
            "Summary: Deep learning is a subset of machine learning that focuses on utilizing neural networks to perform tasks such as classification, regression, and representation learning. The field takes inspiration from biological neuroscience and is centered around stacking artificial neurons into layers and \"training\" them to process data. The adjective \"deep\" refers to the use of multiple layers (ranging from three to several hundred or thousands) in the network. Methods used can be either supervised, semi-supervised or unsupervised.\n",
            "Some common deep learning network architectures include fully connected networks, deep belief networks, recurrent neural networks, convolutional neural networks, generative adversarial networks, transformers, and neural radiance fields. These architectures have been applied to fields including computer vision, speech recognition, natural language processing, machine translation, bioinformatics, drug design, medical image analysis, climate science, material inspection and board game programs, where they have produced results comparable to and in some cases surpassing human expert performance.\n",
            "Early forms of neural networks were inspired by information processing and distributed communication nodes in biological systems, particularly the human brain. However, current neural networks do not intend to model the brain function of organisms, and are generally seen as low-quality models for that purpose.\n",
            "\n",
            "\n"
          ]
        }
      ]
    },
    {
      "cell_type": "code",
      "source": [
        "print(wikipedia.run(\"artificial intelligence\"))"
      ],
      "metadata": {
        "colab": {
          "base_uri": "https://localhost:8080/"
        },
        "id": "fUCfg5AXBTnD",
        "outputId": "e96e421d-e673-46bf-d1a0-f84f36219a13"
      },
      "execution_count": null,
      "outputs": [
        {
          "output_type": "stream",
          "name": "stdout",
          "text": [
            "Page: Artificial intelligence\n",
            "Summary: Artificial intelligence (AI), in its broadest sense, is intelligence exhibited by machines, particularly computer systems. It is a field of research in computer science that develops and studies methods and software that enable machines to perceive their environment and use learning and intelligence to take actions that maximize their chances of achieving defined goals. Such machines may be called AIs.\n",
            "Some high-profile applications of AI include advanced web search engines (e.g., Google Search); recommendation systems (used by YouTube, Amazon, and Netflix); interacting via human speech (e.g., Google Assistant, Siri, and Alexa); autonomous vehicles (e.g., Waymo); generative and creative tools (e.g., ChatGPT, and AI art); and superhuman play and analysis in strategy games (e.g., chess and Go). However, many AI applications are not perceived as AI: \"A lot of cutting edge AI has filtered into general applications, often without being called AI because once something becomes useful enough and common enough it's not labeled AI anymore.\"\n",
            "The various subfields of AI research are centered around particular goals and the use of particular tools. The traditional goals of AI research include reasoning, knowledge representation, planning, learning, natural language processing, perception, and support for robotics. General intelligence—the ability to complete any task performable by a human on an at least equal level—is among the field's long-term goals. To reach these goals, AI researchers have adapted and integrated a wide range of techniques, including search and mathematical optimization, formal logic, artificial neural networks, and methods based on statistics, operations research, and economics. AI also draws upon psychology, linguistics, philosophy, neuroscience, and other fields.\n",
            "Artificial intelligence was founded as an academic discipline in 1956, and the field went through multiple cycles of optimism, followed by periods of disappointment and loss of funding, known as AI winter. Funding and interest vastly increased after 2012 when deep learning outperformed previous AI techniques. This growth accelerated further after 2017 with the transformer architecture, and by the early 2020s hundreds of billions of dollars were being invested in AI (known as the \"AI boom\"). The widespread use of AI in the 21st century exposed several unintended consequences and harms in the present and raised concerns about its risks and long-term effects in the future, prompting discussions about regulatory policies to ensure the safety and benefits of the technology.\n",
            "\n",
            "\n"
          ]
        }
      ]
    },
    {
      "cell_type": "code",
      "source": [
        "print(wikipedia.run(\"Oscars 2024\"))"
      ],
      "metadata": {
        "colab": {
          "base_uri": "https://localhost:8080/"
        },
        "id": "VrjDPYqbBd6Y",
        "outputId": "d669ba1e-d495-4831-829a-8365c70e92de"
      },
      "execution_count": null,
      "outputs": [
        {
          "output_type": "stream",
          "name": "stdout",
          "text": [
            "Page: 96th Academy Awards\n",
            "Summary: The 96th Academy Awards ceremony, presented by the Academy of Motion Picture Arts and Sciences (AMPAS), took place on March 10, 2024, at the Dolby Theatre in Hollywood, Los Angeles. During the gala, the AMPAS presented Academy Awards (commonly referred to as Oscars) in 23 categories honoring films released in 2023. The ceremony, televised in the United States by ABC, was produced by Raj Kapoor, Katy Mullan, and Molly McNearney and was directed by Hamish Hamilton. Comedian Jimmy Kimmel hosted the show for the fourth time. He first presided over the 89th ceremony held in 2017, and had most recently hosted the previous year's ceremony.\n",
            "In related events, the Academy held its 14th Governors Awards ceremony at the Ray Dolby Ballroom of the Ovation Hollywood complex in Hollywood, on January 9, 2024. The Academy Scientific and Technical Awards were presented by host Natasha Lyonne on February 23, 2024, in a ceremony at the Academy Museum of Motion Pictures in Los Angeles.\n",
            "Oppenheimer won seven awards, including Best Picture. Other winners included Poor Things with four awards, The Zone of Interest with two, and American Fiction, Anatomy of a Fall, Barbie, The Boy and the Heron, Godzilla Minus One, The Holdovers, The Last Repair Shop, 20 Days in Mariupol, War Is Over!, and The Wonderful Story of Henry Sugar with one. The telecast drew 19.5 million viewers in the United States.\n",
            "\n",
            "\n"
          ]
        }
      ]
    },
    {
      "cell_type": "markdown",
      "source": [
        "##  Tool definition"
      ],
      "metadata": {
        "id": "dchdOhujiQGi"
      }
    },
    {
      "cell_type": "code",
      "source": [
        "wikipedia_tool = Tool(name = \"wikipedia\",\n",
        "                      description = \"You must never search for multiple concepts at a single step, you need to search one at a time. When asked to compare two concepts for example, search for each one individually.\",\n",
        "                      func = wikipedia.run)"
      ],
      "metadata": {
        "id": "Fca_NuTiBpbm"
      },
      "execution_count": null,
      "outputs": []
    },
    {
      "cell_type": "markdown",
      "source": [
        "## Creating a custom tool\n",
        "\n",
        "- More about creating custom tools: https://python.langchain.com/docs/how_to/custom_tools/\n"
      ],
      "metadata": {
        "id": "IHwMgOJekep1"
      }
    },
    {
      "cell_type": "code",
      "source": [
        "def current_day(*args, **kwargs):\n",
        "  from datetime import date\n",
        "\n",
        "  day = date.today()\n",
        "  day = day.strftime('%d/%m/%Y')\n",
        "  return day"
      ],
      "metadata": {
        "id": "BFDFL09IgHJs"
      },
      "execution_count": null,
      "outputs": []
    },
    {
      "cell_type": "code",
      "source": [
        "current_day()"
      ],
      "metadata": {
        "colab": {
          "base_uri": "https://localhost:8080/",
          "height": 56
        },
        "id": "rzIFQu2lggHC",
        "outputId": "bd9fee04-fb52-47e5-e085-35b23fc92624"
      },
      "execution_count": null,
      "outputs": [
        {
          "output_type": "execute_result",
          "data": {
            "text/plain": [
              "'29/10/2024'"
            ],
            "application/vnd.google.colaboratory.intrinsic+json": {
              "type": "string"
            }
          },
          "metadata": {},
          "execution_count": 10
        }
      ]
    },
    {
      "cell_type": "code",
      "source": [
        "date_tool = Tool(name = \"Day\", func = current_day,\n",
        "                 description = \"Use when you need to know the current date\")"
      ],
      "metadata": {
        "id": "SWwIj9O9gkqL"
      },
      "execution_count": null,
      "outputs": []
    },
    {
      "cell_type": "code",
      "source": [
        "tools = [wikipedia_tool, date_tool]"
      ],
      "metadata": {
        "id": "Phe7cYn_gxip"
      },
      "execution_count": null,
      "outputs": []
    },
    {
      "cell_type": "markdown",
      "metadata": {
        "id": "gClMDbMNeo8p"
      },
      "source": [
        "## ReAct\n",
        "\n",
        "- https://smith.langchain.com/hub/hwchase17/react"
      ]
    },
    {
      "cell_type": "code",
      "source": [
        "import getpass\n",
        "import os\n",
        "os.environ[\"LANGCHAIN_API_KEY\"] = getpass.getpass()"
      ],
      "metadata": {
        "colab": {
          "base_uri": "https://localhost:8080/"
        },
        "id": "kLi0V282k9sY",
        "outputId": "c20cdb5e-bcd8-496a-b304-b820f709d129"
      },
      "execution_count": null,
      "outputs": [
        {
          "name": "stdout",
          "output_type": "stream",
          "text": [
            "··········\n"
          ]
        }
      ]
    },
    {
      "cell_type": "code",
      "source": [
        "os.environ[\"HF_TOKEN\"] = getpass.getpass()"
      ],
      "metadata": {
        "colab": {
          "base_uri": "https://localhost:8080/"
        },
        "id": "h1kFv0adlQ8o",
        "outputId": "bd34171f-b0f6-48e3-f049-8a0473123c52"
      },
      "execution_count": null,
      "outputs": [
        {
          "name": "stdout",
          "output_type": "stream",
          "text": [
            "··········\n"
          ]
        }
      ]
    },
    {
      "cell_type": "code",
      "source": [
        "from langchain import hub\n",
        "prompt = hub.pull(\"hwchase17/react\")"
      ],
      "metadata": {
        "id": "HLdfibQRlWvM"
      },
      "execution_count": null,
      "outputs": []
    },
    {
      "cell_type": "code",
      "source": [
        "prompt"
      ],
      "metadata": {
        "colab": {
          "base_uri": "https://localhost:8080/"
        },
        "id": "ce8Co_cylnoh",
        "outputId": "f428ddc5-6b36-4e6c-c464-6c4cb302d95a"
      },
      "execution_count": null,
      "outputs": [
        {
          "output_type": "execute_result",
          "data": {
            "text/plain": [
              "PromptTemplate(input_variables=['agent_scratchpad', 'input', 'tool_names', 'tools'], input_types={}, partial_variables={}, metadata={'lc_hub_owner': 'hwchase17', 'lc_hub_repo': 'react', 'lc_hub_commit_hash': 'd15fe3c426f1c4b3f37c9198853e4a86e20c425ca7f4752ec0c9b0e97ca7ea4d'}, template='Answer the following questions as best you can. You have access to the following tools:\\n\\n{tools}\\n\\nUse the following format:\\n\\nQuestion: the input question you must answer\\nThought: you should always think about what to do\\nAction: the action to take, should be one of [{tool_names}]\\nAction Input: the input to the action\\nObservation: the result of the action\\n... (this Thought/Action/Action Input/Observation can repeat N times)\\nThought: I now know the final answer\\nFinal Answer: the final answer to the original input question\\n\\nBegin!\\n\\nQuestion: {input}\\nThought:{agent_scratchpad}')"
            ]
          },
          "metadata": {},
          "execution_count": 16
        }
      ]
    },
    {
      "cell_type": "markdown",
      "source": [
        "## Loading the LLM"
      ],
      "metadata": {
        "id": "V-izy4Tuc4Hn"
      }
    },
    {
      "cell_type": "code",
      "source": [
        "from langchain_community.llms import HuggingFaceEndpoint\n",
        "from langchain_community.chat_models.huggingface import ChatHuggingFace"
      ],
      "metadata": {
        "id": "Y2CTi_mTni7H"
      },
      "execution_count": null,
      "outputs": []
    },
    {
      "cell_type": "code",
      "source": [
        "llm = HuggingFaceEndpoint(repo_id = \"meta-llama/Meta-Llama-3-8B-Instruct\", temperature = 0.1)"
      ],
      "metadata": {
        "id": "gRc7ShYintQA"
      },
      "execution_count": null,
      "outputs": []
    },
    {
      "cell_type": "markdown",
      "source": [
        "## Agent Creation\n"
      ],
      "metadata": {
        "id": "3KN1lOMylYI-"
      }
    },
    {
      "cell_type": "code",
      "source": [
        "from langchain.agents import AgentExecutor, create_react_agent\n",
        "\n",
        "agent = create_react_agent(llm = llm, tools = tools, prompt = prompt)"
      ],
      "metadata": {
        "id": "yZuZxWvpn70n"
      },
      "execution_count": null,
      "outputs": []
    },
    {
      "cell_type": "code",
      "source": [
        "agent_executor = AgentExecutor(agent = agent, tools = tools, verbose = True, handling_parsing_error = True)"
      ],
      "metadata": {
        "id": "H7eTUfZ4odXg"
      },
      "execution_count": null,
      "outputs": []
    },
    {
      "cell_type": "markdown",
      "metadata": {
        "id": "lXTNsL4UdC4t"
      },
      "source": [
        "\n",
        "## Agent Execution"
      ]
    },
    {
      "cell_type": "code",
      "source": [
        "print(prompt.template)"
      ],
      "metadata": {
        "colab": {
          "base_uri": "https://localhost:8080/"
        },
        "id": "L_Jt6cqmpIiN",
        "outputId": "e8d621d4-6034-4732-bb07-862106a10aef"
      },
      "execution_count": null,
      "outputs": [
        {
          "output_type": "stream",
          "name": "stdout",
          "text": [
            "Answer the following questions as best you can. You have access to the following tools:\n",
            "\n",
            "{tools}\n",
            "\n",
            "Use the following format:\n",
            "\n",
            "Question: the input question you must answer\n",
            "Thought: you should always think about what to do\n",
            "Action: the action to take, should be one of [{tool_names}]\n",
            "Action Input: the input to the action\n",
            "Observation: the result of the action\n",
            "... (this Thought/Action/Action Input/Observation can repeat N times)\n",
            "Thought: I now know the final answer\n",
            "Final Answer: the final answer to the original input question\n",
            "\n",
            "Begin!\n",
            "\n",
            "Question: {input}\n",
            "Thought:{agent_scratchpad}\n"
          ]
        }
      ]
    },
    {
      "cell_type": "code",
      "source": [
        "resp = agent_executor.invoke({\"input\": \"What day is today?\"})"
      ],
      "metadata": {
        "colab": {
          "base_uri": "https://localhost:8080/"
        },
        "id": "3EuGoh_CpBx8",
        "outputId": "520f09a2-061b-47b6-b528-6e8cf44a2758"
      },
      "execution_count": null,
      "outputs": [
        {
          "output_type": "stream",
          "name": "stdout",
          "text": [
            "\n",
            "\n",
            "\u001b[1m> Entering new AgentExecutor chain...\u001b[0m\n",
            "\u001b[32;1m\u001b[1;3m I need to know the current date\n",
            "Action: Day\n",
            "Action Input: None\n",
            "Observation\u001b[0m\u001b[33;1m\u001b[1;3m29/10/2024\u001b[0m\u001b[32;1m\u001b[1;3m29/10/2024 is the current date\n",
            "Final Answer: The day is 29/10/2024.<|eot_id|>\u001b[0m\n",
            "\n",
            "\u001b[1m> Finished chain.\u001b[0m\n"
          ]
        }
      ]
    },
    {
      "cell_type": "code",
      "source": [
        "resp = agent_executor.invoke({\"input\": \"what is the population of paris?\"})"
      ],
      "metadata": {
        "colab": {
          "base_uri": "https://localhost:8080/"
        },
        "id": "jm8uWY2VppGW",
        "outputId": "9a897dbe-2dd8-4b03-b5f6-f928f71fcb13"
      },
      "execution_count": null,
      "outputs": [
        {
          "output_type": "stream",
          "name": "stdout",
          "text": [
            "\n",
            "\n",
            "\u001b[1m> Entering new AgentExecutor chain...\u001b[0m\n",
            "\u001b[32;1m\u001b[1;3m I need to find the population of Paris. I will use wikipedia to search for it.\n",
            "Action: wikipedia\n",
            "Action Input: 'Paris population'\n",
            "Observation\u001b[0m\u001b[36;1m\u001b[1;3mPage: List of metropolitan areas in Europe\n",
            "Summary: This list ranks metropolitan areas in Europe by their population according to three different sources; it includes metropolitan areas that have a population of over 1 million.\u001b[0m\u001b[32;1m\u001b[1;3m1 million is not the population of Paris, I need to keep searching.\n",
            "Action: wikipedia\n",
            "Action Input: 'Paris'\n",
            "Observation\u001b[0m\u001b[36;1m\u001b[1;3mPage: Observation deck\n",
            "Summary: An observation deck, observation platform, or viewing platform is an elevated sightseeing platform usually situated upon a tall architectural structure, such as a skyscraper or observation tower. Observation decks are sometimes enclosed from weather, and a few may include coin-operated telescopes for viewing distant features.\u001b[0m\u001b[32;1m\u001b[1;3m This is not what I'm looking for, I need to search for the population of Paris.\n",
            "Action: wikipedia\n",
            "Action Input: 'Paris population'\n",
            "Observation\u001b[0m\u001b[36;1m\u001b[1;3mPage: List of metropolitan areas in Europe\n",
            "Summary: This list ranks metropolitan areas in Europe by their population according to three different sources; it includes metropolitan areas that have a population of over 1 million.\u001b[0m\u001b[32;1m\u001b[1;3m I already saw this page, I need to keep searching.\n",
            "Action: wikipedia\n",
            "Action Input: 'Paris, France population'\n",
            "Observation\u001b[0m\u001b[36;1m\u001b[1;3mPage: French Imperial Army (1804–1815)\n",
            "Summary: The French Imperial Army (French: Armée Impériale) was the land force branch of the French imperial military during the Napoleonic era.\u001b[0m\u001b[32;1m\u001b[1;3m This is not what I'm looking for, I need to keep searching.\n",
            "Action: wikipedia\n",
            "Action Input: 'Paris population 2020'\n",
            "Observation\u001b[0m\u001b[36;1m\u001b[1;3mPage: List of metropolitan areas in Europe\n",
            "Summary: This list ranks metropolitan areas in Europe by their population according to three different sources; it includes metropolitan areas that have a population of over 1 million.\u001b[0m\u001b[32;1m\u001b[1;3m I already saw this page, I need to keep searching.\n",
            "Action: wikipedia\n",
            "Action Input: 'Paris, France population 2020'\n",
            "Observation\u001b[0m\u001b[36;1m\u001b[1;3mPage: French Imperial Army (1804–1815)\n",
            "Summary: The French Imperial Army (French: Armée Impériale) was the land force branch of the French imperial military during the Napoleonic era.\u001b[0m\u001b[32;1m\u001b[1;3m This is not what I'm looking for, I need to keep searching.\n",
            "Action: wikipedia\n",
            "Action Input: 'Paris, France population 2020'\n",
            "Observation\u001b[0m\u001b[36;1m\u001b[1;3mPage: French Imperial Army (1804–1815)\n",
            "Summary: The French Imperial Army (French: Armée Impériale) was the land force branch of the French imperial military during the Napoleonic era.\u001b[0m\u001b[32;1m\u001b[1;3m This is not what I'm looking for, I need to keep searching.\n",
            "Action: wikipedia\n",
            "Action Input: 'Paris, France population 2020'\n",
            "Observation\u001b[0m\u001b[36;1m\u001b[1;3mPage: French Imperial Army (1804–1815)\n",
            "Summary: The French Imperial Army (French: Armée Impériale) was the land force branch of the French imperial military during the Napoleonic era.\u001b[0m\u001b[32;1m\u001b[1;3m This is not what I'm looking for, I need to keep searching.\n",
            "Action: wikipedia\n",
            "Action Input: 'Paris, France population 2020'\n",
            "Observation\u001b[0m\u001b[36;1m\u001b[1;3mPage: French Imperial Army (1804–1815)\n",
            "Summary: The French Imperial Army (French: Armée Impériale) was the land force branch of the French imperial military during the Napoleonic era.\u001b[0m\u001b[32;1m\u001b[1;3m This is not what I'm looking for, I need to keep searching.\n",
            "Action: wikipedia\n",
            "Action Input: 'Paris, France population 2020'\n",
            "Observation\u001b[0m\u001b[36;1m\u001b[1;3mPage: French Imperial Army (1804–1815)\n",
            "Summary: The French Imperial Army (French: Armée Impériale) was the land force branch of the French imperial military during the Napoleonic era.\u001b[0m\u001b[32;1m\u001b[1;3m This is not what I'm looking for, I need to keep searching.\n",
            "Action: wikipedia\n",
            "Action Input: 'Paris, France population 2020'\n",
            "Observation\u001b[0m\u001b[36;1m\u001b[1;3mPage: French Imperial Army (1804–1815)\n",
            "Summary: The French Imperial Army (French: Armée Impériale) was the land force branch of the French imperial military during the Napoleonic era.\u001b[0m\u001b[32;1m\u001b[1;3m This is not what I'm looking for, I need to keep searching.\n",
            "Action: wikipedia\n",
            "Action Input: 'Paris, France population 2020'\n",
            "Observation\u001b[0m\u001b[36;1m\u001b[1;3mPage: French Imperial Army (1804–1815)\n",
            "Summary: The French Imperial Army (French: Armée Impériale) was the land force branch of the French imperial military during the Napoleonic era.\u001b[0m\u001b[32;1m\u001b[1;3m This is not what I'm looking for, I need to keep searching.\n",
            "Action: wikipedia\n",
            "Action Input: 'Paris, France population 2020'\n",
            "Observation\u001b[0m\u001b[36;1m\u001b[1;3mPage: French Imperial Army (1804–1815)\n",
            "Summary: The French Imperial Army (French: Armée Impériale) was the land force branch of the French imperial military during the Napoleonic era.\u001b[0m\u001b[32;1m\u001b[1;3m This is not what I'm looking for, I need to keep searching.\n",
            "Action: wikipedia\n",
            "Action Input: 'Paris, France population 2020'\n",
            "Observation\u001b[0m\u001b[36;1m\u001b[1;3mPage: French Imperial Army (1804–1815)\n",
            "Summary: The French Imperial Army (French: Armée Impériale) was the land force branch of the French imperial military during the Napoleonic era.\u001b[0m\u001b[32;1m\u001b[1;3m This is not what I'm looking for, I need to keep searching.\n",
            "Action: wikipedia\n",
            "Action Input: 'Paris, France population 2020'\n",
            "Observation\u001b[0m\u001b[36;1m\u001b[1;3mPage: French Imperial Army (1804–1815)\n",
            "Summary: The French Imperial Army (French: Armée Impériale) was the land force branch of the French imperial military during the Napoleonic era.\u001b[0m\u001b[32;1m\u001b[1;3m\u001b[0m\n",
            "\n",
            "\u001b[1m> Finished chain.\u001b[0m\n"
          ]
        }
      ]
    },
    {
      "cell_type": "markdown",
      "source": [
        "### Customizing the prompt"
      ],
      "metadata": {
        "id": "t5RS-fRwrx-2"
      }
    },
    {
      "cell_type": "code",
      "source": [
        "#prompt.template = \"Your custom template here\""
      ],
      "metadata": {
        "id": "kvEmRCDYq6C1"
      },
      "execution_count": null,
      "outputs": []
    },
    {
      "cell_type": "markdown",
      "source": [
        "## Testing with another model - ChatGPT"
      ],
      "metadata": {
        "id": "kEAyses2-xuP"
      }
    },
    {
      "cell_type": "code",
      "source": [
        "!pip install -q langchain-openai"
      ],
      "metadata": {
        "colab": {
          "base_uri": "https://localhost:8080/"
        },
        "id": "-VpsdQ_Urz1R",
        "outputId": "14c9aec9-c1ce-4efc-bf05-9650e902dd7e"
      },
      "execution_count": null,
      "outputs": [
        {
          "output_type": "stream",
          "name": "stdout",
          "text": [
            "\u001b[?25l   \u001b[90m━━━━━━━━━━━━━━━━━━━━━━━━━━━━━━━━━━━━━━━━\u001b[0m \u001b[32m0.0/50.4 kB\u001b[0m \u001b[31m?\u001b[0m eta \u001b[36m-:--:--\u001b[0m\r\u001b[2K   \u001b[90m━━━━━━━━━━━━━━━━━━━━━━━━━━━━━━━━━━━━━━━━\u001b[0m \u001b[32m50.4/50.4 kB\u001b[0m \u001b[31m3.0 MB/s\u001b[0m eta \u001b[36m0:00:00\u001b[0m\n",
            "\u001b[?25h\u001b[?25l   \u001b[90m━━━━━━━━━━━━━━━━━━━━━━━━━━━━━━━━━━━━━━━━\u001b[0m \u001b[32m0.0/386.9 kB\u001b[0m \u001b[31m?\u001b[0m eta \u001b[36m-:--:--\u001b[0m\r\u001b[2K   \u001b[90m━━━━━━━━━━━━━━━━━━━━━━━━━━━━━━━━━━━━━━━━\u001b[0m \u001b[32m386.9/386.9 kB\u001b[0m \u001b[31m14.1 MB/s\u001b[0m eta \u001b[36m0:00:00\u001b[0m\n",
            "\u001b[?25h\u001b[?25l   \u001b[90m━━━━━━━━━━━━━━━━━━━━━━━━━━━━━━━━━━━━━━━━\u001b[0m \u001b[32m0.0/1.2 MB\u001b[0m \u001b[31m?\u001b[0m eta \u001b[36m-:--:--\u001b[0m\r\u001b[2K   \u001b[90m━━━━━━━━━━━━━━━━━━━━━━━━━━━━━━━━━━━━━━━━\u001b[0m \u001b[32m1.2/1.2 MB\u001b[0m \u001b[31m50.7 MB/s\u001b[0m eta \u001b[36m0:00:00\u001b[0m\n",
            "\u001b[?25h\u001b[?25l   \u001b[90m━━━━━━━━━━━━━━━━━━━━━━━━━━━━━━━━━━━━━━━━\u001b[0m \u001b[32m0.0/325.2 kB\u001b[0m \u001b[31m?\u001b[0m eta \u001b[36m-:--:--\u001b[0m\r\u001b[2K   \u001b[90m━━━━━━━━━━━━━━━━━━━━━━━━━━━━━━━━━━━━━━━━\u001b[0m \u001b[32m325.2/325.2 kB\u001b[0m \u001b[31m25.1 MB/s\u001b[0m eta \u001b[36m0:00:00\u001b[0m\n",
            "\u001b[?25h"
          ]
        }
      ]
    },
    {
      "cell_type": "code",
      "source": [
        "os.environ[\"OPENAI_API_KEY\"] = getpass.getpass(\"OpenAI API key: \")"
      ],
      "metadata": {
        "colab": {
          "base_uri": "https://localhost:8080/"
        },
        "id": "k4UnvZVDr7Ot",
        "outputId": "88534405-ff72-4d57-a2b2-c78ece23b97d"
      },
      "execution_count": null,
      "outputs": [
        {
          "name": "stdout",
          "output_type": "stream",
          "text": [
            "OpenAI API key: ··········\n"
          ]
        }
      ]
    },
    {
      "cell_type": "code",
      "source": [
        "from langchain_openai import ChatOpenAI\n",
        "\n",
        "llm = ChatOpenAI(model = \"gpt-4o-mini\", temperature = 0)"
      ],
      "metadata": {
        "id": "iNBQMojctXvd"
      },
      "execution_count": null,
      "outputs": []
    },
    {
      "cell_type": "code",
      "source": [
        "agent = create_react_agent(\n",
        "    llm=llm, tools=tools, prompt=prompt, stop_sequence=True\n",
        ")\n",
        "\n",
        "agent_executor = AgentExecutor.from_agent_and_tools(\n",
        "    agent=agent, tools=tools, verbose=True, handle_parsing_errors=True\n",
        ")"
      ],
      "metadata": {
        "id": "lvo2Xy67tzwL"
      },
      "execution_count": null,
      "outputs": []
    },
    {
      "cell_type": "code",
      "source": [
        "resp = agent_executor.invoke({\"input\": \"what is the population of rio?\"})"
      ],
      "metadata": {
        "colab": {
          "base_uri": "https://localhost:8080/"
        },
        "id": "fstR7TG8t316",
        "outputId": "0c331411-7104-4ac6-ea59-98c7231fcad9"
      },
      "execution_count": null,
      "outputs": [
        {
          "output_type": "stream",
          "name": "stdout",
          "text": [
            "\n",
            "\n",
            "\u001b[1m> Entering new AgentExecutor chain...\u001b[0m\n",
            "\u001b[32;1m\u001b[1;3mI need to find the current population of Rio de Janeiro. I'll search for the most recent information available on this topic.  \n",
            "Action: wikipedia  \n",
            "Action Input: 'Population of Rio de Janeiro'  \u001b[0m\u001b[36;1m\u001b[1;3mPage: Rio de Janeiro\n",
            "Summary: Rio de Janeiro (Portuguese: [ˈʁi.u d(ʒi) ʒɐˈne(j)ɾu] ), or simply Rio, is the capital of the state of Rio de Janeiro. It is the second-most-populous city in Brazil (after São Paulo) and the sixth-most-populous city in the Americas.\n",
            "Founded in 1565 by the Portuguese, the city was initially the seat of the Captaincy of Rio de Janeiro, a domain of the Portuguese Empire. In 1763, it became the capital of the State of Brazil, a state of the Portuguese Empire. In 1808, when the Portuguese Royal Court moved to Brazil, Rio de Janeiro became the seat of the court of Queen Maria I of Portugal. She subsequently, under the leadership of her son the prince regent John VI of Portugal, raised Brazil to the dignity of a kingdom, within the United Kingdom of Portugal, Brazil, and Algarves. Rio remained as the capital of the pluricontinental monarchy until 1822, when the Brazilian War of Independence began. This is one of the few instances in history that the capital of a colonizing country officially shifted to a city in one of its colonies. Rio de Janeiro subsequently served as the capital of the independent monarchy, the Empire of Brazil, until 1889, and then the capital of a republican Brazil until 1960 when the capital was transferred to Brasília.\n",
            "Rio de Janeiro has the second largest municipal GDP in the country, and 30th-largest in the world in 2008. This is estimated at R$343 billion. In the city are the headquarters of Brazilian oil, mining, and telecommunications companies, including two of the country's major corporations, Petrobras and Vale, and Latin America's largest telemedia conglomerate, Grupo Globo. The home of many universities and institutes, it is the second-largest center of research and development in Brazil, accounting for 17 percent of national scientific output according to 2005 data. Despite the high perception of crime, the city actually has a lower incidence of crime than most state capitals in Brazil.\n",
            "Rio de Janeiro is one of the most visited cities in the Southern Hemisphere and is known for its natural settings, carnival, samba, bossa nova, and balneario beaches such as Barra da Tijuca, Copacabana, Ipanema, and Leblon. In addition to the beaches, landmarks include the giant statue of Christ the Redeemer atop Corcovado mountain, named one of the New Seven Wonders of the World; Sugarloaf Mountain with its cable car; the Sambódromo (Sambadrome), a permanent grandstand-lined parade avenue which is used during Carnival; and Maracanã Stadium, one of the world's largest football stadiums. Rio de Janeiro was the host of the 2016 Summer Olympics and the 2016 Summer Paralympics, making the city the first South American and Portuguese-speaking city to ever host the events, and the third time the Olympics were held in a Southern Hemisphere city. The Maracanã Stadium held the finals of the 1950 and 2014 FIFA World Cups, the 2013 FIFA Confederations Cup, and the XV Pan American Games. The city will host the G20 summi\u001b[0m\u001b[32;1m\u001b[1;3mThe observation did not provide specific information about the current population of Rio de Janeiro. I need to search again specifically for the population figure.  \n",
            "Action: wikipedia  \n",
            "Action Input: 'Demographics of Rio de Janeiro'  \u001b[0m\u001b[36;1m\u001b[1;3mPage: Demographics of Rio de Janeiro\n",
            "Summary: The demographics of Rio de Janeiro City are evidence of a uniquely large and ethnically diverse metropolis. It is the second largest city in Brazil with a population defined by a long history of international immigration.\n",
            "Rio de Janeiro City is home to more than 6 million people, accounting for about 35% of the population of Rio de Janeiro State. Portuguese remains the most widely spoken language and Rio de Janeiro is the second largest city in the Portuguese speaking world.\u001b[0m\u001b[32;1m\u001b[1;3mI have found the information I need regarding the population of Rio de Janeiro. \n",
            "\n",
            "Final Answer: The population of Rio de Janeiro City is home to more than 6 million people.\u001b[0m\n",
            "\n",
            "\u001b[1m> Finished chain.\u001b[0m\n"
          ]
        }
      ]
    },
    {
      "cell_type": "markdown",
      "metadata": {
        "id": "0dhMiusFUIbA"
      },
      "source": [
        "## Exploring other tools\n",
        "\n",
        "- [Tavily](https://python.langchain.com/v0.2/docs/integrations/tools/tavily_search/)"
      ]
    },
    {
      "cell_type": "code",
      "source": [
        "os.environ[\"TAVILY_API_KEY\"] = getpass.getpass()"
      ],
      "metadata": {
        "colab": {
          "base_uri": "https://localhost:8080/"
        },
        "id": "DXwCTNhqB1sX",
        "outputId": "fe1a795c-449d-4cd8-91e4-9e92ccaad3e7"
      },
      "execution_count": null,
      "outputs": [
        {
          "name": "stdout",
          "output_type": "stream",
          "text": [
            "··········\n"
          ]
        }
      ]
    },
    {
      "cell_type": "code",
      "source": [
        "from langchain_community.tools.tavily_search import TavilySearchResults"
      ],
      "metadata": {
        "id": "73WkcTtzB9sT"
      },
      "execution_count": null,
      "outputs": []
    },
    {
      "cell_type": "code",
      "source": [
        "search = TavilySearchResults(max_results=2)"
      ],
      "metadata": {
        "id": "lARfRGYlCEZu"
      },
      "execution_count": null,
      "outputs": []
    },
    {
      "cell_type": "markdown",
      "source": [
        "Testing the Tool"
      ],
      "metadata": {
        "id": "xDrXM0F2bG08"
      }
    },
    {
      "cell_type": "code",
      "source": [
        "search_results = search.invoke(\"what is the population of paris?\")\n",
        "print(search_results)"
      ],
      "metadata": {
        "colab": {
          "base_uri": "https://localhost:8080/"
        },
        "id": "NFJcOyqpCMaR",
        "outputId": "dea83cda-09f6-4f0d-d6d2-3d065ad12ff5"
      },
      "execution_count": null,
      "outputs": [
        {
          "output_type": "stream",
          "name": "stdout",
          "text": [
            "[{'url': 'https://worldpopulationreview.com/cities/france/paris', 'content': \"Paris's 2024 population is now estimated at 11,276,700. In 1950, the population of Paris was 6,283,020. Paris has grown by 68,300 in the last year, which represents a 0.61% annual change. These population estimates and projections come from the latest revision of the UN World Urbanization Prospects.These estimates represent the Urban agglomeration of Paris, which typically includes Paris's\"}, {'url': 'https://en.wikipedia.org/wiki/Paris', 'content': 'The city\\'s population loss came to a temporary halt at the beginning of the 21st century; the population increased from 2,125,246 in 1999 to 2,240,621 in 2012, before declining again slightly in 2017, 2018, and again in 2021.[159][160]\\nParis is the core of a built-up area that extends well beyond its limits: commonly referred to as the agglomération Parisienne, and statistically as a unité urbaine (a measure of urban area), the Paris agglomeration\\'s population of 10,785,092 in 2017[161] made it the largest urban area in the European Union.[162] City-influenced commuter activity reaches well beyond even this in a statistical aire d\\'attraction de Paris (\"functional area\", a statistical method comparable to a metropolitan area[163]), that had a population of 13,024,518 in 2017,[164] 19.6% of the population of France,[165] and the largest metropolitan area in the Eurozone.[162]\\nAccording to Eurostat, the EU statistical agency, in 2012 the Commune of Paris was the most densely populated city in the European Union, with 21,616 people per square kilometre within the city limits (the NUTS-3 statistical area), ahead of Inner London West, which had 10,374 people per square kilometre. Parisian and Italian musicians who played the accordion adopted the style and established themselves in Auvergnat bars,[232] anParis became a major centre for jazz and still attracts jazz musicians from all around the world to its clubs and cafés.[233]\\nParis is the spiritual home of gypsy jazz in particular, and many of the Parisian jazzmen who developed in the first half of the 20th century began by playing Bal-musette in the city.[232] Django Reinhardt rose to fame in Paris, having moved to the 18th arrondissement in a caravan as a young boy, and performed with violinist Stéphane Grappelli and their Quintette du Hot Club de France in the 1930s and 1940s.[234]\\nImmediately after the War the Saint-Germain-des-Pres quarter and the nearby Saint-Michel quarter became home to many small jazz clubs, including the Caveau des Lorientais, the Club Saint-Germain, the Rose Rouge, the Vieux-Colombier, and the most famous, Le Tabou. After seizing power in Paris on 28\\xa0March, a revolutionary government known as the Paris Commune held power for two months, before being harshly suppressed by the French army during the \"Bloody Week\" at the end of May 1871.[59]\\nIn the late 19th century, Paris hosted two major international expositions: the 1889 Universal Exposition, which featured the new Eiffel Tower, was held to mark the centennial of the French Revolution; and the 1900 Universal Exposition gave Paris the Pont Alexandre III, the Grand Palais, the Petit Palais and the first Paris Métro line.[60] Paris became the laboratory of Naturalism (Émile Zola) and Symbolism (Charles Baudelaire and Paul Verlaine), and of Impressionism in art (Courbet, Manet, Monet, Renoir).[61]\\n20th and 21st centuries[edit]\\nBy 1901, the population of Paris had grown to about 2,715,000.[62] In 2012 and 2013, it was estimated that there were almost 500,000 Muslims in the City of Paris, 1.5 million Muslims in the Île-de-France region and 4 to 5 million Muslims in France.[176][177]\\nThe Jewish population of the Paris Region was estimated in 2014 to be 282,000, the largest concentration of Jews in the world outside of Israel and the United States.[178]\\nEconomy[edit]\\nThe economy of the City of Paris is based largely on services and commerce; of the 390,480 enterprises in the city, 80.6 percent are engaged in commerce, transportation, and diverse services, 6.5 percent in construction, and just 3.8 percent in industry.[182] The Paris region\\'s most intense economic activity through the central Hauts-de-Seine department and suburban La Défense business district places Paris\\'s economic centre to the west of the city, in a triangle between the Opéra Garnier, La Défense and the Val de Seine.[194] While the Paris economy is dominated by services, and employment in manufacturing sector has declined sharply, the region remains an important manufacturing centre, particularly for aeronautics, automobiles, and \"eco\" industries.[194]\\nIn the 2017 worldwide cost of living survey by the Economist Intelligence Unit, based on a survey made in September 2016, Paris ranked as the seventh most expensive city in the world, and the second most expensive in Europe, after Zurich.[195]'}]\n"
          ]
        }
      ]
    },
    {
      "cell_type": "markdown",
      "source": [
        "Printing the page content"
      ],
      "metadata": {
        "id": "HC8xVwDpbKBI"
      }
    },
    {
      "cell_type": "code",
      "source": [
        "search_results[0]['content']"
      ],
      "metadata": {
        "id": "kMDBMWf0Ch3J",
        "outputId": "8540e325-4b3b-4b6a-f2db-1d35a858aa5c",
        "colab": {
          "base_uri": "https://localhost:8080/",
          "height": 106
        }
      },
      "execution_count": null,
      "outputs": [
        {
          "output_type": "execute_result",
          "data": {
            "text/plain": [
              "\"Paris's 2024 population is now estimated at 11,276,700. In 1950, the population of Paris was 6,283,020. Paris has grown by 68,300 in the last year, which represents a 0.61% annual change. These population estimates and projections come from the latest revision of the UN World Urbanization Prospects.These estimates represent the Urban agglomeration of Paris, which typically includes Paris's\""
            ],
            "application/vnd.google.colaboratory.intrinsic+json": {
              "type": "string"
            }
          },
          "metadata": {},
          "execution_count": 34
        }
      ]
    },
    {
      "cell_type": "markdown",
      "source": [
        "Alternatives to Tavily:\n",
        "* DuckDuckGoSearchResults - https://python.langchain.com/docs/integrations/tools/ddg/\n",
        "* SerpAPI (Google Search API) - https://python.langchain.com//docs/integrations/providers/serpapi/\n",
        "\n",
        "It's interesting to test to see if you can perform searches better."
      ],
      "metadata": {
        "id": "Tgl-wpH-uCW2"
      }
    },
    {
      "cell_type": "markdown",
      "metadata": {
        "id": "AJS8sxtsWVKr"
      },
      "source": [
        "### Using chat templates\n"
      ]
    },
    {
      "cell_type": "code",
      "source": [
        "from langchain_core.messages import HumanMessage\n",
        "resp = llm.invoke([HumanMessage(content = \"Hi! How are you?\")])"
      ],
      "metadata": {
        "id": "uc3sKeKKL3th"
      },
      "execution_count": null,
      "outputs": []
    },
    {
      "cell_type": "code",
      "source": [
        "resp"
      ],
      "metadata": {
        "colab": {
          "base_uri": "https://localhost:8080/"
        },
        "id": "PdWSyTnvMF4B",
        "outputId": "1dd6bd04-4eea-498e-be81-456965feb25b"
      },
      "execution_count": null,
      "outputs": [
        {
          "output_type": "execute_result",
          "data": {
            "text/plain": [
              "AIMessage(content=\"Hello! I'm just a program, so I don't have feelings, but I'm here and ready to help you. How can I assist you today?\", additional_kwargs={'refusal': None}, response_metadata={'token_usage': {'completion_tokens': 29, 'prompt_tokens': 13, 'total_tokens': 42, 'completion_tokens_details': {'audio_tokens': None, 'reasoning_tokens': 0}, 'prompt_tokens_details': {'audio_tokens': None, 'cached_tokens': 0}}, 'model_name': 'gpt-4o-mini-2024-07-18', 'system_fingerprint': 'fp_f59a81427f', 'finish_reason': 'stop', 'logprobs': None}, id='run-158822a8-4c64-4d2b-a07c-c8215aa47209-0', usage_metadata={'input_tokens': 13, 'output_tokens': 29, 'total_tokens': 42, 'input_token_details': {'cache_read': 0}, 'output_token_details': {'reasoning': 0}})"
            ]
          },
          "metadata": {},
          "execution_count": 36
        }
      ]
    },
    {
      "cell_type": "code",
      "source": [
        "tools"
      ],
      "metadata": {
        "colab": {
          "base_uri": "https://localhost:8080/"
        },
        "id": "GPAmkkk3MY6B",
        "outputId": "6f3dfbb8-4385-4078-b34c-5f0610cf9395"
      },
      "execution_count": null,
      "outputs": [
        {
          "output_type": "execute_result",
          "data": {
            "text/plain": [
              "[Tool(name='wikipedia', description='You must never search for multiple concepts at a single step, you need to search one at a time. When asked to compare two concepts for example, search for each one individually.', func=<bound method BaseTool.run of WikipediaQueryRun(api_wrapper=WikipediaAPIWrapper(wiki_client=<module 'wikipedia' from '/usr/local/lib/python3.10/dist-packages/wikipedia/__init__.py'>, top_k_results=1, lang='en', load_all_available_meta=False, doc_content_chars_max=3000))>),\n",
              " Tool(name='Day', description='Use when you need to know the current date', func=<function current_day at 0x782ad4994670>)]"
            ]
          },
          "metadata": {},
          "execution_count": 37
        }
      ]
    },
    {
      "cell_type": "code",
      "source": [
        "tools = [search, date_tool]"
      ],
      "metadata": {
        "id": "4i-qIEHRMfTs"
      },
      "execution_count": null,
      "outputs": []
    },
    {
      "cell_type": "code",
      "source": [
        "tools"
      ],
      "metadata": {
        "colab": {
          "base_uri": "https://localhost:8080/"
        },
        "id": "M49SWKbeMioq",
        "outputId": "4c947d59-30b7-4ab3-d7f5-6c8d66ecc066"
      },
      "execution_count": null,
      "outputs": [
        {
          "output_type": "execute_result",
          "data": {
            "text/plain": [
              "[TavilySearchResults(max_results=2, api_wrapper=TavilySearchAPIWrapper(tavily_api_key=SecretStr('**********'))),\n",
              " Tool(name='Day', description='Use when you need to know the current date', func=<function current_day at 0x782ad4994670>)]"
            ]
          },
          "metadata": {},
          "execution_count": 39
        }
      ]
    },
    {
      "cell_type": "code",
      "source": [
        "models_with_tools = llm.bind_tools(tools)"
      ],
      "metadata": {
        "id": "7wyWgYLLMvn9"
      },
      "execution_count": null,
      "outputs": []
    },
    {
      "cell_type": "code",
      "source": [
        "response = models_with_tools.invoke([HumanMessage(content = \"Hi!\")])\n",
        "response"
      ],
      "metadata": {
        "colab": {
          "base_uri": "https://localhost:8080/"
        },
        "id": "f-LvCZU1M4Zs",
        "outputId": "7a67d676-4a2e-4e3c-b31e-3a8d714ec060"
      },
      "execution_count": null,
      "outputs": [
        {
          "output_type": "execute_result",
          "data": {
            "text/plain": [
              "AIMessage(content='Hello! How can I assist you today?', additional_kwargs={'refusal': None}, response_metadata={'token_usage': {'completion_tokens': 10, 'prompt_tokens': 111, 'total_tokens': 121, 'completion_tokens_details': {'audio_tokens': None, 'reasoning_tokens': 0}, 'prompt_tokens_details': {'audio_tokens': None, 'cached_tokens': 0}}, 'model_name': 'gpt-4o-mini-2024-07-18', 'system_fingerprint': 'fp_f59a81427f', 'finish_reason': 'stop', 'logprobs': None}, id='run-b33804b6-dc2c-4c5a-b010-2cab7ea21e4e-0', usage_metadata={'input_tokens': 111, 'output_tokens': 10, 'total_tokens': 121, 'input_token_details': {'cache_read': 0}, 'output_token_details': {'reasoning': 0}})"
            ]
          },
          "metadata": {},
          "execution_count": 41
        }
      ]
    },
    {
      "cell_type": "code",
      "source": [
        "response.content"
      ],
      "metadata": {
        "colab": {
          "base_uri": "https://localhost:8080/",
          "height": 56
        },
        "id": "D6zCmIdiNC7J",
        "outputId": "743d3617-91c4-4a2b-9412-355cba2df33b"
      },
      "execution_count": null,
      "outputs": [
        {
          "output_type": "execute_result",
          "data": {
            "text/plain": [
              "'Hello! How can I assist you today?'"
            ],
            "application/vnd.google.colaboratory.intrinsic+json": {
              "type": "string"
            }
          },
          "metadata": {},
          "execution_count": 42
        }
      ]
    },
    {
      "cell_type": "code",
      "source": [
        "response.tool_calls"
      ],
      "metadata": {
        "colab": {
          "base_uri": "https://localhost:8080/"
        },
        "id": "abKvbrfANGYg",
        "outputId": "15dd397e-7765-49e6-9f8f-075d1b4504bb"
      },
      "execution_count": null,
      "outputs": [
        {
          "output_type": "execute_result",
          "data": {
            "text/plain": [
              "[]"
            ]
          },
          "metadata": {},
          "execution_count": 43
        }
      ]
    },
    {
      "cell_type": "code",
      "source": [
        "response = models_with_tools.invoke([HumanMessage(content = \"What is NVIDIA's current market cap?\")])"
      ],
      "metadata": {
        "id": "qcgcmszMNQH7"
      },
      "execution_count": null,
      "outputs": []
    },
    {
      "cell_type": "code",
      "source": [
        "response.content, response.tool_calls"
      ],
      "metadata": {
        "colab": {
          "base_uri": "https://localhost:8080/"
        },
        "id": "sgqbBK9HNZ82",
        "outputId": "87c48c21-dd5a-4e16-b29d-374db2eede28"
      },
      "execution_count": null,
      "outputs": [
        {
          "output_type": "execute_result",
          "data": {
            "text/plain": [
              "('',\n",
              " [{'name': 'tavily_search_results_json',\n",
              "   'args': {'query': 'NVIDIA current market cap'},\n",
              "   'id': 'call_Sx8vxP7uEYChQx95wlr3Huga',\n",
              "   'type': 'tool_call'}])"
            ]
          },
          "metadata": {},
          "execution_count": 46
        }
      ]
    },
    {
      "cell_type": "code",
      "source": [
        "agent = create_react_agent(\n",
        "    llm=llm, tools=tools, prompt=prompt, stop_sequence=True\n",
        ")\n",
        "\n",
        "agent_executor = AgentExecutor(\n",
        "    agent=agent, tools=tools, verbose=True, handle_parsing_errors=True\n",
        ")"
      ],
      "metadata": {
        "id": "8k6yNaVINtfq"
      },
      "execution_count": null,
      "outputs": []
    },
    {
      "cell_type": "code",
      "source": [
        "resp = agent_executor.invoke({\"input\": \"What is NVIDIA's current market cap?\"})"
      ],
      "metadata": {
        "colab": {
          "base_uri": "https://localhost:8080/"
        },
        "id": "6b2g-VpvNyFt",
        "outputId": "139a38b6-b0ea-4d9c-aa72-c73ab0427cf6"
      },
      "execution_count": null,
      "outputs": [
        {
          "output_type": "stream",
          "name": "stdout",
          "text": [
            "\n",
            "\n",
            "\u001b[1m> Entering new AgentExecutor chain...\u001b[0m\n",
            "\u001b[32;1m\u001b[1;3mTo find NVIDIA's current market cap, I need to look up the latest financial data regarding the company. This information is typically available through financial news or stock market resources. \n",
            "\n",
            "Action: tavily_search_results_json  \n",
            "Action Input: \"NVIDIA current market cap\"  \u001b[0m\u001b[36;1m\u001b[1;3m[{'url': 'https://stockanalysis.com/stocks/nvda/market-cap/', 'content': \"NVIDIA has a market cap of $3.23 trillion as of October 15, 2024, up 200.45% from a year ago. See the historical chart, ranking, and growth rate of NVIDIA's market cap since 1999.\"}, {'url': 'https://companiesmarketcap.com/nvidia/marketcap/', 'content': \"Market cap history of NVIDIA from 2001 to 2023\\nEnd of year Market Cap\\nEnd of Day market cap according to different sources\\nOn Dec 16th, 2023 the market cap of NVIDIA was reported to be:\\nMarket capitalization for similar companies or competitors\\nThe market capitalization sometimes referred as Marketcap, is the value of a publicly listed company.\\n The market capitalization, commonly called market cap, is the total market value of a publicly traded company's outstanding shares and is commonly used to measure how much a company is worth.\\n Market capitalization of NVIDIA (NVDA)\\nMarket cap: $1.207 Trillion\\nAs of December 2023 NVIDIA has a market cap of $1.207 Trillion.\\n CompaniesMarketCap is receiving financial compensation for Delta App installs.\\nCompaniesMarketCap is not associated in any way with CoinMarketCap.com\\nStock prices are delayed, the delay can range from a few minutes to several hours.\\n In January 1999, Nvidia was included in the NASDAQ (NVDA) and delivered the ten millionth graphics chip in the same year.\"}]\u001b[0m\u001b[32;1m\u001b[1;3mThe search results provided two different market cap figures for NVIDIA. One source states that NVIDIA has a market cap of $3.23 trillion as of October 15, 2024, while another source reports a market cap of $1.207 trillion as of December 2023. \n",
            "\n",
            "To clarify which figure is current, I will check the date today to see if it aligns with the more recent figure.\n",
            "\n",
            "Action: Day  \n",
            "Action Input: None  \u001b[0m\u001b[33;1m\u001b[1;3m29/10/2024\u001b[0m\u001b[32;1m\u001b[1;3mToday is October 29, 2024. Since the market cap of $3.23 trillion is reported as of October 15, 2024, it is the more recent figure. The other figure of $1.207 trillion is from December 2023, which is outdated.\n",
            "\n",
            "Final Answer: NVIDIA's current market cap is $3.23 trillion as of October 15, 2024.\u001b[0m\n",
            "\n",
            "\u001b[1m> Finished chain.\u001b[0m\n"
          ]
        }
      ]
    },
    {
      "cell_type": "markdown",
      "metadata": {
        "id": "dXrk6IRcS74Z"
      },
      "source": [
        "### LangSmith\n",
        "\n",
        "- https://smith.langchain.com/  \n",
        "\n"
      ]
    },
    {
      "cell_type": "code",
      "source": [
        "!pip install -q langgraph"
      ],
      "metadata": {
        "colab": {
          "base_uri": "https://localhost:8080/"
        },
        "id": "yGcZw49eP7D6",
        "outputId": "e29a9aa8-c90b-4b47-e926-e63888c80adf"
      },
      "execution_count": null,
      "outputs": [
        {
          "output_type": "stream",
          "name": "stdout",
          "text": [
            "\u001b[?25l   \u001b[90m━━━━━━━━━━━━━━━━━━━━━━━━━━━━━━━━━━━━━━━━\u001b[0m \u001b[32m0.0/113.5 kB\u001b[0m \u001b[31m?\u001b[0m eta \u001b[36m-:--:--\u001b[0m\r\u001b[2K   \u001b[90m━━━━━━━━━━━━━━━━━━━━━━━━━━━━━━━━━━━━━━━━\u001b[0m \u001b[32m113.5/113.5 kB\u001b[0m \u001b[31m5.6 MB/s\u001b[0m eta \u001b[36m0:00:00\u001b[0m\n",
            "\u001b[?25h"
          ]
        }
      ]
    },
    {
      "cell_type": "code",
      "source": [
        "os.environ[\"LANGCHAIN_TRACING_V2\"] = \"true\"\n",
        "os.environ[\"LANGCHAIN_API_KEY\"] = getpass.getpass()"
      ],
      "metadata": {
        "colab": {
          "base_uri": "https://localhost:8080/"
        },
        "id": "J5LeaMdOQCIP",
        "outputId": "a76fb31e-843f-4765-8f4d-fb4324cfd9b2"
      },
      "execution_count": null,
      "outputs": [
        {
          "name": "stdout",
          "output_type": "stream",
          "text": [
            "··········\n"
          ]
        }
      ]
    },
    {
      "cell_type": "code",
      "source": [
        "from langgraph.prebuilt import create_react_agent as langgraph_react_agent"
      ],
      "metadata": {
        "id": "UE73J-6fQPFr"
      },
      "execution_count": null,
      "outputs": []
    },
    {
      "cell_type": "code",
      "source": [
        "agent_executor = langgraph_react_agent(llm, tools)"
      ],
      "metadata": {
        "id": "RwG4cCxCQc76"
      },
      "execution_count": null,
      "outputs": []
    },
    {
      "cell_type": "code",
      "source": [
        "input = \"What is brazil population forecast?\"\n",
        "\n",
        "response = agent_executor.invoke({\"messages\": HumanMessage(content = input)})\n",
        "response[\"messages\"]"
      ],
      "metadata": {
        "colab": {
          "base_uri": "https://localhost:8080/"
        },
        "id": "N1B19ysQQjIk",
        "outputId": "1426adfb-5f04-4dbd-a937-5cb90e6d2278"
      },
      "execution_count": null,
      "outputs": [
        {
          "output_type": "execute_result",
          "data": {
            "text/plain": [
              "[HumanMessage(content='What is brazil population forecast?', additional_kwargs={}, response_metadata={}, id='327181ca-11bf-465b-a723-831733c25080'),\n",
              " AIMessage(content='', additional_kwargs={'tool_calls': [{'id': 'call_TQLWrAD5tlzPETJ200EQU6hR', 'function': {'arguments': '{\"query\":\"Brazil population forecast 2023\"}', 'name': 'tavily_search_results_json'}, 'type': 'function'}], 'refusal': None}, response_metadata={'token_usage': {'completion_tokens': 23, 'prompt_tokens': 115, 'total_tokens': 138, 'completion_tokens_details': {'audio_tokens': None, 'reasoning_tokens': 0}, 'prompt_tokens_details': {'audio_tokens': None, 'cached_tokens': 0}}, 'model_name': 'gpt-4o-mini-2024-07-18', 'system_fingerprint': 'fp_f59a81427f', 'finish_reason': 'tool_calls', 'logprobs': None}, id='run-5d26c9c5-e402-439f-af84-2206dce15694-0', tool_calls=[{'name': 'tavily_search_results_json', 'args': {'query': 'Brazil population forecast 2023'}, 'id': 'call_TQLWrAD5tlzPETJ200EQU6hR', 'type': 'tool_call'}], usage_metadata={'input_tokens': 115, 'output_tokens': 23, 'total_tokens': 138, 'input_token_details': {'cache_read': 0}, 'output_token_details': {'reasoning': 0}}),\n",
              " ToolMessage(content='[{\"url\": \"https://tradingeconomics.com/brazil/population?embed/forecast\", \"content\": \"Population in Brazil is expected to reach 216.28 Million by the end of 2023, according to Trading Economics global macro models and analysts expectations. In the long-term, the Brazil Population is projected to trend around 217.68 Million in 2024 and 218.56 Million in 2025, according to our econometric models.\"}, {\"url\": \"https://www.macrotrends.net/global-metrics/countries/BRA/brazil/population-growth-rate\", \"content\": \"United Nations projections are also included through the year 2100. The current population of Brazil in 2024 is 217,637,297, a 0.56% increase from 2023. The population of Brazil in 2023 was 216,422,446, a 0.52% increase from 2022. The population of Brazil in 2022 was 215,313,498, a 0.46% increase from 2021.\"}]', name='tavily_search_results_json', id='4b7d18c9-80da-4a54-b950-590ff354e985', tool_call_id='call_TQLWrAD5tlzPETJ200EQU6hR', artifact={'query': 'Brazil population forecast 2023', 'follow_up_questions': None, 'answer': None, 'images': [], 'results': [{'title': 'Brazil Population - Forecast - TRADING ECONOMICS', 'url': 'https://tradingeconomics.com/brazil/population?embed/forecast', 'content': 'Population in Brazil is expected to reach 216.28 Million by the end of 2023, according to Trading Economics global macro models and analysts expectations. In the long-term, the Brazil Population is projected to trend around 217.68 Million in 2024 and 218.56 Million in 2025, according to our econometric models.', 'score': 0.99957937, 'raw_content': None}, {'title': 'Brazil Population Growth Rate 1950-2024 - Macrotrends', 'url': 'https://www.macrotrends.net/global-metrics/countries/BRA/brazil/population-growth-rate', 'content': 'United Nations projections are also included through the year 2100. The current population of Brazil in 2024 is 217,637,297, a 0.56% increase from 2023. The population of Brazil in 2023 was 216,422,446, a 0.52% increase from 2022. The population of Brazil in 2022 was 215,313,498, a 0.46% increase from 2021.', 'score': 0.9970073, 'raw_content': None}], 'response_time': 3.69}),\n",
              " AIMessage(content='The population of Brazil is forecasted to reach approximately 216.28 million by the end of 2023. In the following years, it is projected to trend around 217.68 million in 2024 and 218.56 million in 2025. \\n\\nAccording to United Nations projections, the population in 2024 is expected to be about 217,637,297, reflecting a 0.56% increase from 2023, which had a population of approximately 216,422,446. \\n\\nFor more detailed information, you can refer to the sources: [Trading Economics](https://tradingeconomics.com/brazil/population?embed/forecast) and [Macrotrends](https://www.macrotrends.net/global-metrics/countries/BRA/brazil/population-growth-rate).', additional_kwargs={'refusal': None}, response_metadata={'token_usage': {'completion_tokens': 167, 'prompt_tokens': 376, 'total_tokens': 543, 'completion_tokens_details': {'audio_tokens': None, 'reasoning_tokens': 0}, 'prompt_tokens_details': {'audio_tokens': None, 'cached_tokens': 0}}, 'model_name': 'gpt-4o-mini-2024-07-18', 'system_fingerprint': 'fp_f59a81427f', 'finish_reason': 'stop', 'logprobs': None}, id='run-698d35a4-3bd7-4c33-803b-3c3f17966ca4-0', usage_metadata={'input_tokens': 376, 'output_tokens': 167, 'total_tokens': 543, 'input_token_details': {'cache_read': 0}, 'output_token_details': {'reasoning': 0}})]"
            ]
          },
          "metadata": {},
          "execution_count": 53
        }
      ]
    },
    {
      "cell_type": "code",
      "source": [
        "response[\"messages\"][-1]"
      ],
      "metadata": {
        "colab": {
          "base_uri": "https://localhost:8080/"
        },
        "id": "p1Ffe07eRkPy",
        "outputId": "4559b27d-0618-461d-a175-b1a014c95eb0"
      },
      "execution_count": null,
      "outputs": [
        {
          "output_type": "execute_result",
          "data": {
            "text/plain": [
              "AIMessage(content='The population of Brazil is forecasted to reach approximately 216.28 million by the end of 2023. In the following years, it is projected to trend around 217.68 million in 2024 and 218.56 million in 2025. \\n\\nAccording to United Nations projections, the population in 2024 is expected to be about 217,637,297, reflecting a 0.56% increase from 2023, which had a population of approximately 216,422,446. \\n\\nFor more detailed information, you can refer to the sources: [Trading Economics](https://tradingeconomics.com/brazil/population?embed/forecast) and [Macrotrends](https://www.macrotrends.net/global-metrics/countries/BRA/brazil/population-growth-rate).', additional_kwargs={'refusal': None}, response_metadata={'token_usage': {'completion_tokens': 167, 'prompt_tokens': 376, 'total_tokens': 543, 'completion_tokens_details': {'audio_tokens': None, 'reasoning_tokens': 0}, 'prompt_tokens_details': {'audio_tokens': None, 'cached_tokens': 0}}, 'model_name': 'gpt-4o-mini-2024-07-18', 'system_fingerprint': 'fp_f59a81427f', 'finish_reason': 'stop', 'logprobs': None}, id='run-698d35a4-3bd7-4c33-803b-3c3f17966ca4-0', usage_metadata={'input_tokens': 376, 'output_tokens': 167, 'total_tokens': 543, 'input_token_details': {'cache_read': 0}, 'output_token_details': {'reasoning': 0}})"
            ]
          },
          "metadata": {},
          "execution_count": 55
        }
      ]
    },
    {
      "cell_type": "code",
      "source": [
        "print(response[\"messages\"][-1].content)"
      ],
      "metadata": {
        "colab": {
          "base_uri": "https://localhost:8080/"
        },
        "id": "FBo1qfkqR-bo",
        "outputId": "029d33af-940c-43da-f400-56f2da44325e"
      },
      "execution_count": null,
      "outputs": [
        {
          "output_type": "stream",
          "name": "stdout",
          "text": [
            "The population of Brazil is forecasted to reach approximately 216.28 million by the end of 2023. In the following years, it is projected to trend around 217.68 million in 2024 and 218.56 million in 2025. \n",
            "\n",
            "According to United Nations projections, the population in 2024 is expected to be about 217,637,297, reflecting a 0.56% increase from 2023, which had a population of approximately 216,422,446. \n",
            "\n",
            "For more detailed information, you can refer to the sources: [Trading Economics](https://tradingeconomics.com/brazil/population?embed/forecast) and [Macrotrends](https://www.macrotrends.net/global-metrics/countries/BRA/brazil/population-growth-rate).\n"
          ]
        }
      ]
    }
  ]
}